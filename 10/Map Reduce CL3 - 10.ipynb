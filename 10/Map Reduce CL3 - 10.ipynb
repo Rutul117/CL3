{
 "cells": [
  {
   "cell_type": "code",
   "execution_count": 34,
   "id": "7b553cfb",
   "metadata": {},
   "outputs": [],
   "source": [
    "import pandas as pd\n",
    "\n",
    "def mapper(data):\n",
    "    for temp, row in data.iterrows():\n",
    "        year = row['date'][:4]\n",
    "        yield (int(year), row['temp'])"
   ]
  },
  {
   "cell_type": "code",
   "execution_count": 35,
   "id": "e3cdf872",
   "metadata": {},
   "outputs": [],
   "source": [
    "def reducer(mapped_data):    \n",
    "    year_temp_dict = {}\n",
    "    for year, temp in mapped_data:\n",
    "        if year not in year_temp_dict:\n",
    "            year_temp_dict[year] = []\n",
    "        year_temp_dict[year].append(temp)\n",
    "\n",
    "    year_stats = {}\n",
    "    for year, temps in year_temp_dict.items():\n",
    "        max_temp = max(temps)\n",
    "        min_temp = min(temps)\n",
    "        avg_temp = sum(temps) / len(temps)\n",
    "        year_stats[year] = {\"max\": max_temp, \"min\": min_temp, \"avg\": avg_temp}\n",
    "    \n",
    "    return year_stats"
   ]
  },
  {
   "cell_type": "code",
   "execution_count": 37,
   "id": "ded2ab31",
   "metadata": {},
   "outputs": [
    {
     "name": "stdout",
     "output_type": "stream",
     "text": [
      "2001 : Max: 30.5°C , Min: 20.2°C , Avg: 25.35°C\n",
      "2002 : Max: 35.1°C , Min: 18.6°C , Avg: 26.85°C\n",
      "2003 : Max: 33.7°C , Min: 15.4°C , Avg: 24.55°C\n"
     ]
    }
   ],
   "source": [
    "weather_data = pd.read_csv('Weather_Data.csv')\n",
    "mapped_data = list(map(mapper, [weather_data])) \n",
    "flattened_data = [] \n",
    "for sublist in mapped_data:\n",
    "    for item in sublist:\n",
    "        flattened_data.append(item)\n",
    "\n",
    "year_stats = reducer(flattened_data)\n",
    "\n",
    "for year, stats in year_stats.items():\n",
    "    print(f\"{year} : Max: {stats['max']:.1f}°C , Min: {stats['min']:.1f}°C , Avg: {stats['avg']:.2f}°C\")"
   ]
  },
  {
   "cell_type": "code",
   "execution_count": null,
   "id": "596fd976",
   "metadata": {},
   "outputs": [],
   "source": []
  },
  {
   "cell_type": "code",
   "execution_count": null,
   "id": "4d71923a",
   "metadata": {},
   "outputs": [],
   "source": []
  },
  {
   "cell_type": "code",
   "execution_count": null,
   "id": "60c5ee1d",
   "metadata": {},
   "outputs": [],
   "source": []
  },
  {
   "cell_type": "code",
   "execution_count": null,
   "id": "96a1d932",
   "metadata": {},
   "outputs": [],
   "source": []
  },
  {
   "cell_type": "code",
   "execution_count": null,
   "id": "b8836bdb",
   "metadata": {},
   "outputs": [],
   "source": []
  },
  {
   "cell_type": "code",
   "execution_count": null,
   "id": "bac6ec9f",
   "metadata": {},
   "outputs": [],
   "source": []
  }
 ],
 "metadata": {
  "kernelspec": {
   "display_name": "Python 3 (ipykernel)",
   "language": "python",
   "name": "python3"
  },
  "language_info": {
   "codemirror_mode": {
    "name": "ipython",
    "version": 3
   },
   "file_extension": ".py",
   "mimetype": "text/x-python",
   "name": "python",
   "nbconvert_exporter": "python",
   "pygments_lexer": "ipython3",
   "version": "3.10.17"
  }
 },
 "nbformat": 4,
 "nbformat_minor": 5
}
