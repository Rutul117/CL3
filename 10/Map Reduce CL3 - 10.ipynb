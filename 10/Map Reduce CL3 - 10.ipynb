{
 "cells": [
  {
   "cell_type": "code",
   "execution_count": 2,
   "id": "60c5ee1d",
   "metadata": {},
   "outputs": [
    {
     "name": "stdout",
     "output_type": "stream",
     "text": [
      "2001 : Max: 30.5°C , Min: 20.2°C , Avg: 25.35°C\n",
      "2002 : Max: 35.1°C , Min: 18.6°C , Avg: 26.85°C\n",
      "2003 : Max: 33.7°C , Min: 15.4°C , Avg: 24.55°C\n",
      "\n",
      "Hottest Year: 2002 with Avg Temp: 26.85°C\n",
      "Coolest Year: 2003 with Avg Temp: 24.55°C\n"
     ]
    }
   ],
   "source": [
    "import pandas as pd\n",
    "\n",
    "def find_year_stats(data):\n",
    "    year_stats = {}\n",
    "    \n",
    "    # Loop through data to accumulate stats per year\n",
    "    for _, row in data.iterrows():\n",
    "        year = int(row['date'][:4])  # Extract year from 'date'\n",
    "        temp = row['temp']\n",
    "        \n",
    "        if year not in year_stats:\n",
    "            year_stats[year] = {'temps': []}\n",
    "        year_stats[year]['temps'].append(temp)\n",
    "\n",
    "    # Calculate max, min, avg for each year\n",
    "    final_stats = {}\n",
    "    hottest_year = None\n",
    "    coolest_year = None\n",
    "    max_avg_temp = float('-inf')\n",
    "    min_avg_temp = float('inf')\n",
    "\n",
    "    for year, stats in year_stats.items():\n",
    "        temps = stats['temps']\n",
    "        max_temp = max(temps)\n",
    "        min_temp = min(temps)\n",
    "        avg_temp = sum(temps) / len(temps)\n",
    "        \n",
    "        final_stats[year] = {'max': max_temp, 'min': min_temp, 'avg': avg_temp}\n",
    "\n",
    "        # Track the hottest and coolest year based on average temperature\n",
    "        if avg_temp > max_avg_temp:\n",
    "            max_avg_temp = avg_temp\n",
    "            hottest_year = year\n",
    "        if avg_temp < min_avg_temp:\n",
    "            min_avg_temp = avg_temp\n",
    "            coolest_year = year\n",
    "\n",
    "    # Output results\n",
    "    for year, stats in final_stats.items():\n",
    "        print(f\"{year} : Max: {stats['max']:.1f}°C , Min: {stats['min']:.1f}°C , Avg: {stats['avg']:.2f}°C\")\n",
    "\n",
    "    print(f\"\\nHottest Year: {hottest_year} with Avg Temp: {max_avg_temp:.2f}°C\")\n",
    "    print(f\"Coolest Year: {coolest_year} with Avg Temp: {min_avg_temp:.2f}°C\")\n",
    "\n",
    "\n",
    "# Load the weather data\n",
    "weather_data = pd.read_csv('Weather_Data.csv')\n",
    "\n",
    "# Drop any rows with missing date or temperature values\n",
    "weather_data = weather_data.dropna(subset=['date', 'temp'])\n",
    "\n",
    "# Process and display year stats\n",
    "find_year_stats(weather_data)\n"
   ]
  },
  {
   "cell_type": "code",
   "execution_count": null,
   "id": "96a1d932",
   "metadata": {},
   "outputs": [],
   "source": []
  },
  {
   "cell_type": "code",
   "execution_count": null,
   "id": "b8836bdb",
   "metadata": {},
   "outputs": [],
   "source": []
  },
  {
   "cell_type": "code",
   "execution_count": null,
   "id": "bac6ec9f",
   "metadata": {},
   "outputs": [],
   "source": []
  }
 ],
 "metadata": {
  "kernelspec": {
   "display_name": "Python 3 (ipykernel)",
   "language": "python",
   "name": "python3"
  },
  "language_info": {
   "codemirror_mode": {
    "name": "ipython",
    "version": 3
   },
   "file_extension": ".py",
   "mimetype": "text/x-python",
   "name": "python",
   "nbconvert_exporter": "python",
   "pygments_lexer": "ipython3",
   "version": "3.10.17"
  }
 },
 "nbformat": 4,
 "nbformat_minor": 5
}
