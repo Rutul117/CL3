{
 "cells": [
  {
   "cell_type": "code",
   "execution_count": 1,
   "id": "3db76ce6-8fdf-4816-86e8-5af1b36c41f8",
   "metadata": {},
   "outputs": [],
   "source": [
    "import numpy as np"
   ]
  },
  {
   "cell_type": "code",
   "execution_count": 2,
   "id": "a0a7bc8c-8dca-4a17-b04f-01547a2374ca",
   "metadata": {},
   "outputs": [],
   "source": [
    "class fuzzy_set_ops:\n",
    "    def fuzzy_union(A, B):\n",
    "        return np.maximum(A, B)\n",
    "\n",
    "    def fuzzy_intersection(A, B):\n",
    "        return np.minimum(A, B)\n",
    "\n",
    "    def fuzzy_complement(A):\n",
    "        return 1-A\n",
    "\n",
    "    def fuzzy_difference(A, B):\n",
    "        return np.maximum(A, 1-B)"
   ]
  },
  {
   "cell_type": "code",
   "execution_count": 3,
   "id": "3b438fbd-a410-409d-b18b-594625e011ac",
   "metadata": {},
   "outputs": [],
   "source": [
    "class fuzzy_set_relations:\n",
    "    def cartesian_product(A, B):\n",
    "        return np.outer(A, B)\n",
    "\n",
    "    def minmax_composition(R, S):\n",
    "        return np.max(np.minimum.outer(R, S), axis = 1)"
   ]
  },
  {
   "cell_type": "code",
   "execution_count": 6,
   "id": "5f2428bd-98cd-45c5-9db8-b505ee4ed0e7",
   "metadata": {},
   "outputs": [
    {
     "name": "stdout",
     "output_type": "stream",
     "text": [
      "Set A:  [0.2 0.4 0.6 0.8]\n",
      "Set B:  [0.3 0.5 0.7 0.9]\n",
      "Union of sets:  [0.3 0.5 0.7 0.9]\n",
      "Intersection of sets:  [0.2 0.4 0.6 0.8]\n",
      "Complement of set A:  [0.8 0.6 0.4 0.2]\n",
      "Difference of sets:  [0.7 0.5 0.6 0.8]\n"
     ]
    }
   ],
   "source": [
    "#defining fuzzy sets\n",
    "A = np.array([0.2, 0.4, 0.6, 0.8])\n",
    "B = np.array([0.3, 0.5, 0.7, 0.9])\n",
    "\n",
    "print(\"Set A: \", A)\n",
    "print(\"Set B: \", B)\n",
    "\n",
    "#performing fuzzy operations\n",
    "print(\"Union of sets: \", fuzzy_set_ops.fuzzy_union(A, B))\n",
    "print(\"Intersection of sets: \", fuzzy_set_ops.fuzzy_intersection(A, B))\n",
    "print(\"Complement of set A: \", fuzzy_set_ops.fuzzy_complement(A))\n",
    "print(\"Difference of sets: \", fuzzy_set_ops.fuzzy_difference(A, B))"
   ]
  },
  {
   "cell_type": "code",
   "execution_count": 8,
   "id": "597dead6-b001-49e8-bcd6-8cecd770ba4d",
   "metadata": {},
   "outputs": [
    {
     "name": "stdout",
     "output_type": "stream",
     "text": [
      "Cartesian Product of sets: \n",
      " [[0.06 0.1  0.14 0.18]\n",
      " [0.12 0.2  0.28 0.36]\n",
      " [0.18 0.3  0.42 0.54]\n",
      " [0.24 0.4  0.56 0.72]]\n"
     ]
    }
   ],
   "source": [
    "#cartesian product\n",
    "print(\"Cartesian Product of sets: \\n\", fuzzy_set_relations.cartesian_product(A, B))"
   ]
  },
  {
   "cell_type": "code",
   "execution_count": 10,
   "id": "b35d2bc4-afa8-4773-a99a-2739825f44a0",
   "metadata": {},
   "outputs": [
    {
     "name": "stdout",
     "output_type": "stream",
     "text": [
      "Min Max Composition of relations: \n",
      " [0.2 0.5 0.7]\n"
     ]
    }
   ],
   "source": [
    "#defining relations for min max composition\n",
    "R = np.array([0.2, 0.5, 0.8])\n",
    "S = np.array([0.3, 0.6, 0.7])\n",
    "\n",
    "print(\"Min Max Composition of relations: \\n\", fuzzy_set_relations.minmax_composition(R, S))"
   ]
  }
 ],
 "metadata": {
  "kernelspec": {
   "display_name": "Python 3 (ipykernel)",
   "language": "python",
   "name": "python3"
  },
  "language_info": {
   "codemirror_mode": {
    "name": "ipython",
    "version": 3
   },
   "file_extension": ".py",
   "mimetype": "text/x-python",
   "name": "python",
   "nbconvert_exporter": "python",
   "pygments_lexer": "ipython3",
   "version": "3.11.0"
  }
 },
 "nbformat": 4,
 "nbformat_minor": 5
}
