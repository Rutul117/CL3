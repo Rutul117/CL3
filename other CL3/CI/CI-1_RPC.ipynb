{
 "cells": [
  {
   "cell_type": "code",
   "execution_count": null,
   "id": "c60f804d",
   "metadata": {},
   "outputs": [],
   "source": [
    "# pip install pypi xmlrpc\n",
    "# pip install msilib (if error occurs in xmlrpc installation)"
   ]
  },
  {
   "cell_type": "code",
   "execution_count": null,
   "id": "9d35ef3c-34e4-4425-8fad-1f0e80b0c040",
   "metadata": {},
   "outputs": [],
   "source": [
    "#client.py\n",
    "import xmlrpc.client\n",
    "\n",
    "# Create an XML-RPC client\n",
    "with xmlrpc.client.ServerProxy(\"http://localhost:8000/RPC2\") as proxy:\n",
    "    try:\n",
    "        input_value = int(input(\"Enter the number : \"))\n",
    "        result = proxy.calculate_factorial(input_value)\n",
    "        print(\"Factorial is : \", result)\n",
    "    except Exception as e:\n",
    "        print(\"Error: \", e)"
   ]
  },
  {
   "cell_type": "code",
   "execution_count": null,
   "id": "2b378beb-76a7-4b61-abb3-9627c99decbc",
   "metadata": {},
   "outputs": [],
   "source": [
    "#server.py\n",
    "from xmlrpc.server import SimpleXMLRPCServer\n",
    "from xmlrpc.server import SimpleXMLRPCRequestHandler\n",
    "\n",
    "class FactorialServer:\n",
    "    def calculate_factorial(self, n):\n",
    "        if n < 0:\n",
    "            raise ValueError(\"Input must be a non-negative integer.\")\n",
    "        result = 1\n",
    "        for i in range(1, n + 1):\n",
    "            result *= i\n",
    "            res = str(result)\n",
    "        return res\n",
    "\n",
    "# Restrict to a particular path.\n",
    "class RequestHandler(SimpleXMLRPCRequestHandler):\n",
    "    rpc_paths = ('/RPC2',)\n",
    "\n",
    "# Create server\n",
    "with SimpleXMLRPCServer(('localhost', 8000), requestHandler = RequestHandler) as server:\n",
    "    server.register_introspection_functions()\n",
    "    # Register the FactorialServer class\n",
    "    server.register_instance(FactorialServer())\n",
    "    print(\"FactorialServer is ready to accept requests.\")\n",
    "    # Run the server's main loop\n",
    "    server.serve_forever()"
   ]
  }
 ],
 "metadata": {
  "kernelspec": {
   "display_name": "Python 3 (ipykernel)",
   "language": "python",
   "name": "python3"
  },
  "language_info": {
   "codemirror_mode": {
    "name": "ipython",
    "version": 3
   },
   "file_extension": ".py",
   "mimetype": "text/x-python",
   "name": "python",
   "nbconvert_exporter": "python",
   "pygments_lexer": "ipython3",
   "version": "3.11.0"
  }
 },
 "nbformat": 4,
 "nbformat_minor": 5
}
