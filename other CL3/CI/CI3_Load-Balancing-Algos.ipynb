{
 "cells": [
  {
   "cell_type": "code",
   "execution_count": 1,
   "id": "2515babb-4ac2-4bad-bfd7-898f2dece964",
   "metadata": {},
   "outputs": [],
   "source": [
    "import random\n",
    "import itertools\n",
    "from collections import defaultdict"
   ]
  },
  {
   "cell_type": "code",
   "execution_count": 2,
   "id": "bbb2c72f-d0f9-4f81-ba98-b9adf0962e49",
   "metadata": {},
   "outputs": [],
   "source": [
    "class Server:\n",
    "    def __init__(self, server_id):\n",
    "        self.server_id = server_id\n",
    "        self.active_connections = 0\n",
    "        self.total_requests = 0\n",
    "        self.busy_time = 0 # Simulated time spent handling requests\n",
    "\n",
    "    def handle_request(self, current_time):\n",
    "        # Simulate handling a request by incrementing active connections.\n",
    "        self.active_connections += 1\n",
    "        self.total_requests += 1\n",
    "        self.busy_time += 1 # Assume each request takes 1 time unit\n",
    "\n",
    "    def release_request(self):\n",
    "         # Simulate completing a request by decrementing active connections.\n",
    "         if self.active_connections > 0:\n",
    "             self.active_connections -= 1\n",
    "\n",
    "    def utilization(self, total_time):\n",
    "        #Calculate server utilization percentage.\"\"\"\n",
    "        return (self.busy_time / total_time) * 100 if total_time > 0 else 0\n",
    "\n",
    "    def __repr__(self):\n",
    "        return f\"Server-{self.server_id} (Active: {self.active_connections}, Total Requests: {self.total_requests})\""
   ]
  },
  {
   "cell_type": "code",
   "execution_count": 3,
   "id": "679d49f8-61d5-4066-af9c-20d5be92d606",
   "metadata": {},
   "outputs": [],
   "source": [
    "class LoadBalancer:\n",
    "    def __init__(self, servers, algorithm=\"round_robin\"):\n",
    "        self.servers = servers\n",
    "        self.algorithm = algorithm\n",
    "        self.request_count = 0\n",
    "        self.total_time = 0\n",
    "        self.round_robin_iterator = itertools.cycle(self.servers)\n",
    "        self.wait_times = []\n",
    "\n",
    "    def get_server(self):\n",
    "        # Select a server based on the chosen load balancing algorithm.\n",
    "        if self.algorithm == \"round_robin\":\n",
    "            return next(self.round_robin_iterator)\n",
    "        elif self.algorithm == \"least_connections\":\n",
    "            return min(self.servers, key=lambda s: s.active_connections)\n",
    "        elif self.algorithm == \"random\":\n",
    "            return random.choice(self.servers)\n",
    "        else:\n",
    "            raise ValueError(\"Unsupported load balancing algorithm\")\n",
    "\n",
    "    def distribute_request(self, current_time):\n",
    "        # Distribute a client request to a selected server.\n",
    "        server = self.get_server()\n",
    "        server.handle_request(current_time)\n",
    "        self.request_count += 1\n",
    "        self.total_time = max(self.total_time, current_time + 1)\n",
    "        self.wait_times.append(current_time)\n",
    "        print(f\"Request {self.request_count} assigned to {server}\")\n",
    "        \n",
    "    def release_request_from_server(self, server_id):\n",
    "        # Simulate a server completing a request.\n",
    "        for server in self.servers:\n",
    "            if server.server_id == server_id:\n",
    "                server.release_request()\n",
    "                print(f\"Server-{server_id} completed a request.\")\n",
    "                return\n",
    "        print(f\"Server-{server_id} not found.\")\n",
    "\n",
    "    def print_summary(self):\n",
    "        # Print summary statistics for the load balancing simulation.\n",
    "        avg_wait_time = sum(self.wait_times) / len(self.wait_times) if self.wait_times else 0\n",
    "        print(\"\\nSummary Report:\")\n",
    "        print(f\"Total Requests Processed: {self.request_count}\")\n",
    "        print(f\"Average Waiting Time: {avg_wait_time:.2f} time units\")\n",
    "        print(\"Server Utilization:\")\n",
    "        for server in self.servers:\n",
    "            print(f\" {server}: {server.utilization(self.total_time):.2f}% utilization\")"
   ]
  },
  {
   "cell_type": "code",
   "execution_count": null,
   "id": "978e740f-4d2c-41cb-9c8e-3efa8aada38b",
   "metadata": {},
   "outputs": [],
   "source": [
    "# Simulating client requests\n",
    "def simulate_requests(num_requests=10, num_servers=3, algorithm=\"round_robin\"):\n",
    "    servers = [Server(i) for i in range(1, num_servers + 1)]\n",
    "    lb = LoadBalancer(servers, algorithm)\n",
    "\n",
    "    for current_time in range(num_requests):\n",
    "        lb.distribute_request(current_time)\n",
    "\n",
    "    print(\"\\nFinal Server States:\")\n",
    "    for server in servers:\n",
    "        print(server)\n",
    "\n",
    "        lb.print_summary()"
   ]
  }
 ],
 "metadata": {
  "kernelspec": {
   "display_name": "Python 3 (ipykernel)",
   "language": "python",
   "name": "python3"
  },
  "language_info": {
   "codemirror_mode": {
    "name": "ipython",
    "version": 3
   },
   "file_extension": ".py",
   "mimetype": "text/x-python",
   "name": "python",
   "nbconvert_exporter": "python",
   "pygments_lexer": "ipython3",
   "version": "3.11.0"
  }
 },
 "nbformat": 4,
 "nbformat_minor": 5
}
